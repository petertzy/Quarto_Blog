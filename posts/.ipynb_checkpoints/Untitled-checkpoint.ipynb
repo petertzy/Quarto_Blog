{
 "cells": [
  {
   "cell_type": "markdown",
   "id": "46712595-adeb-49d0-b909-3a8cf816642a",
   "metadata": {},
   "source": [
    "---\n",
    "title: \"我的第一篇 Quarto 博客\"\n",
    "author: \"张三\"\n",
    "date: \"2025-09-09\"\n",
    "categories: [python, tutorial]\n",
    "format:\n",
    "  html:\n",
    "    code-fold: true   # 可以折叠代码\n",
    "    toc: true         # 自动生成目录\n",
    "---\n"
   ]
  },
  {
   "cell_type": "code",
   "execution_count": null,
   "id": "6dae69ab-211e-49d5-bbab-9c9a09fe26c0",
   "metadata": {},
   "outputs": [],
   "source": []
  }
 ],
 "metadata": {
  "kernelspec": {
   "display_name": "Python 3 (ipykernel)",
   "language": "python",
   "name": "python3"
  },
  "language_info": {
   "codemirror_mode": {
    "name": "ipython",
    "version": 3
   },
   "file_extension": ".py",
   "mimetype": "text/x-python",
   "name": "python",
   "nbconvert_exporter": "python",
   "pygments_lexer": "ipython3",
   "version": "3.9.11"
  }
 },
 "nbformat": 4,
 "nbformat_minor": 5
}
