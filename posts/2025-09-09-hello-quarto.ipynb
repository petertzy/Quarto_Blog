{
 "cells": [
  {
   "cell_type": "markdown",
   "id": "f7ba1e78",
   "metadata": {},
   "source": [
    "---\n",
    "title: \"My First Quarto Blog\"\n",
    "author: \"Zhang San\"\n",
    "date: \"2025-09-09\"\n",
    "categories: [python, tutorial]\n",
    "format:\n",
    "  html:\n",
    "    code-fold: true   # Allows code folding\n",
    "    toc: true         # Automatically generate table of contents\n",
    "---\n"
   ]
  }
 ],
 "metadata": {
  "language_info": {
   "name": "python"
  }
 },
 "nbformat": 4,
 "nbformat_minor": 5
}
